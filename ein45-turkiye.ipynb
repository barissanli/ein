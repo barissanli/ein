{
 "cells": [
  {
   "cell_type": "code",
   "execution_count": 34,
   "id": "a4212419-81c0-4e8c-b241-58a2264ccdbf",
   "metadata": {},
   "outputs": [],
   "source": [
    "import matplotlib.pyplot as plt\n",
    "import pandas as pd"
   ]
  },
  {
   "cell_type": "code",
   "execution_count": 36,
   "id": "7b2f7cb8-c26c-4c6a-8ed5-b40dbaf33858",
   "metadata": {},
   "outputs": [],
   "source": [
    "c_tr=[\"Avusturya\",\"Belçika\",  'Bulgaristan', 'Hırvatistan', 'KKTC',\n",
    "       'Çekya', 'Danimarka', 'Estonya', 'Finlandiya', 'Fransa',\n",
    "       'Almanya', 'Yunanistan', 'Macaristan', 'İzlanda', 'İrlanda', 'İtalya',\n",
    "       'Latviya', 'Litvanya', 'Luxembourg', 'Hollanda',\n",
    "       'Makedonya', 'Norveç', 'Polonya', 'Portekiz', 'Romanya',\n",
    "       'Slovakya', 'Slovenya', 'İspanya', 'İsveç', 'İsviçre',\n",
    "       'Türkiye', 'Ukrayna', 'İngiltere']\n",
    "c_en=['Austria', 'Belgium', 'Bulgaria', 'Croatia', 'Cyprus',\n",
    "       'Czech Republic', 'Denmark', 'Estonia', 'Finland', 'France',\n",
    "       'Germany', 'Greece', 'Hungary', 'Iceland', 'Ireland', 'Italy',\n",
    "       'Latvia', 'Lithuania', 'Luxembourg', 'Netherlands',\n",
    "       'North Macedonia', 'Norway', 'Poland', 'Portugal', 'Romania',\n",
    "       'Slovakia', 'Slovenia', 'Spain', 'Sweden', 'Switzerland',\n",
    "       'Turkiye', 'Ukraine', 'United Kingdom']\n",
    "sozluk=dict(zip(c_en,c_tr))"
   ]
  },
  {
   "cell_type": "code",
   "execution_count": 38,
   "id": "63ccef64-bcc5-47f7-b0dd-34db231f24e3",
   "metadata": {},
   "outputs": [],
   "source": [
    "df=pd.read_csv(\"narrow.csv\")"
   ]
  },
  {
   "cell_type": "code",
   "execution_count": 40,
   "id": "3e8078d8-4b75-4116-a6c9-2457b9763cd0",
   "metadata": {},
   "outputs": [
    {
     "data": {
      "text/plain": [
       "array(['S. & Cent. America', nan, 'North America', 'Asia Pacific',\n",
       "       'Europe', 'CIS', 'Middle East', 'Africa'], dtype=object)"
      ]
     },
     "execution_count": 40,
     "metadata": {},
     "output_type": "execute_result"
    }
   ],
   "source": [
    "df.Region.unique()"
   ]
  },
  {
   "cell_type": "code",
   "execution_count": 42,
   "id": "3519d734-0117-4b9a-b164-6addbf565ff0",
   "metadata": {},
   "outputs": [
    {
     "data": {
      "text/plain": [
       "Index(['Country', 'Year', 'ISO3166_alpha3', 'ISO3166_numeric', 'Region',\n",
       "       'SubRegion', 'OPEC', 'EU', 'OECD', 'CIS', 'Var', 'Value'],\n",
       "      dtype='object')"
      ]
     },
     "execution_count": 42,
     "metadata": {},
     "output_type": "execute_result"
    }
   ],
   "source": [
    "df.columns"
   ]
  },
  {
   "cell_type": "code",
   "execution_count": 44,
   "id": "18ec8f9b-7598-48cf-8ed6-1415b9067bd8",
   "metadata": {},
   "outputs": [],
   "source": [
    "#df[(df.Region=='Europe') & (df.Var=='elect_twh')]"
   ]
  },
  {
   "cell_type": "code",
   "execution_count": 46,
   "id": "31472a4c-be89-4efe-8d8c-2ba60fd591a6",
   "metadata": {},
   "outputs": [
    {
     "data": {
      "text/plain": [
       "array(['biodiesel_cons_kboed', 'biodiesel_cons_pj',\n",
       "       'biodiesel_prod_kboed', 'biodiesel_prod_pj', 'biofuels_cons_ej',\n",
       "       'biofuels_cons_kbd', 'biofuels_cons_kboed', 'biofuels_cons_pj',\n",
       "       'biofuels_prod_kbd', 'biofuels_prod_kboed', 'biofuels_prod_pj',\n",
       "       'biogeo_ej', 'biogeo_twh', 'biogeo_twh_net', 'co2_combust_mtco2',\n",
       "       'co2_combust_pc', 'co2_combust_per_ej', 'co2_mtco2', 'coalcons_ej',\n",
       "       'coalprod_ej', 'coalprod_mt', 'cobalt_kt', 'cobaltres_kt',\n",
       "       'diesel_gasoil_cons_kbd', 'elect_twh', 'electbyfuel_coal',\n",
       "       'electbyfuel_gas', 'electbyfuel_hydro', 'electbyfuel_nuclear',\n",
       "       'electbyfuel_oil', 'electbyfuel_other', 'electbyfuel_ren_power',\n",
       "       'electbyfuel_total', 'ethanol_cons_kboed', 'ethanol_cons_pj',\n",
       "       'ethanol_prod_kboed', 'ethanol_prod_pj', 'fuel_oil_cons_kbd',\n",
       "       'gascons_bcfd', 'gascons_bcm', 'gascons_ej', 'gasflared_bcm',\n",
       "       'gasflared_mtco2', 'gasoline_cons_kbd', 'gasprod_bcfd',\n",
       "       'gasprod_bcm', 'gasprod_ej', 'graphite_kt', 'graphiteres_kt',\n",
       "       'hydro_ej', 'hydro_twh', 'hydro_twh_net', 'kerosene_cons_kbd',\n",
       "       'light_dist_cons_kbd', 'liqcons_kbd', 'lithium_kt',\n",
       "       'lithiumres_kt', 'lpg_cons_kbd', 'methane_process_mtco2',\n",
       "       'middle_dist_cons_kbd', 'naphtha_cons_kbd', 'nuclear_ej',\n",
       "       'nuclear_twh', 'nuclear_twh_net', 'oilcons_ej', 'oilcons_kbd',\n",
       "       'oilcons_mt', 'oilprod_crudecond_kbd', 'oilprod_kbd', 'oilprod_mt',\n",
       "       'oilprod_ngl_kbd', 'other_oil_cons_kbd', 'pop',\n",
       "       'primary_eintensity', 'primary_ej', 'primary_ej_pc',\n",
       "       'rareearths_kt', 'rareearthsres_kt', 'refcap_kbd',\n",
       "       'refcaputil_pct', 'refthru_kbd', 'ren_power_ej', 'ren_power_twh',\n",
       "       'ren_power_twh_net', 'renewables_ej', 'solar_ej', 'solar_twh',\n",
       "       'solar_twh_net', 'wind_ej', 'wind_twh', 'wind_twh_net'],\n",
       "      dtype=object)"
      ]
     },
     "execution_count": 46,
     "metadata": {},
     "output_type": "execute_result"
    }
   ],
   "source": [
    "df.Var.unique()"
   ]
  },
  {
   "cell_type": "code",
   "execution_count": 99,
   "id": "bb0bd74d-4e6b-43f5-ba23-3c0281e702c5",
   "metadata": {},
   "outputs": [
    {
     "data": {
      "text/html": [
       "<table border='1' style='border-collapse:collapse; width:100%;text-align:left'><tr><th colspan='1'>1990</th><th colspan='1'>2000</th><th colspan='1'>2005</th><th colspan='1'>2010</th><th colspan='1'>2015</th><th colspan='1'>2020</th><th colspan='1'>2021</th><th colspan='1'>2023</th></tr><tr><td>1. Almanya (15.1)<br>2. Ukrayna (11.5)<br>3. Fransa (9.5)<br>4. İngiltere (9.0)<br>5. İtalya (6.7)<br>6. Polonya (4.4)<br>7. İspanya (3.8)<br>8. Hollanda (3.3)<br>9. Romanya (2.6)<br>10. İsveç (2.3)<br>11. Belçika (2.2)<br><span style='color:red;'>12. Türkiye (2.0)</span><br>13. Çekya (2.0)<br>14. Norveç (1.8)<br>15. Avusturya (1.2)<br>16. İsviçre (1.2)<br>17. Bulgaristan (1.2)<br>18. Macaristan (1.2)<br>19. Finlandiya (1.2)<br>20. Yunanistan (1.0)</td><td>1. Almanya (14.4)<br>2. Fransa (11.2)<br>3. İngiltere (9.6)<br>4. İtalya (7.6)<br>5. Ukrayna (5.7)<br>6. İspanya (5.5)<br>7. Polonya (3.7)<br>8. Hollanda (3.6)<br><span style='color:red;'>9. Türkiye (3.1)</span><br>10. Belçika (2.7)<br>11. İsveç (2.3)<br>12. Norveç (2.1)<br>13. Çekya (1.7)<br>14. Romanya (1.5)<br>15. Avusturya (1.4)<br>16. Yunanistan (1.3)<br>17. İsviçre (1.3)<br>18. Finlandiya (1.3)<br>19. Portekiz (1.1)<br>20. Macaristan (1.0)</td><td>1. Almanya (14.3)<br>2. Fransa (11.4)<br>3. İngiltere (9.8)<br>4. İtalya (7.9)<br>5. İspanya (6.4)<br>6. Ukrayna (5.8)<br>7. Hollanda (4.0)<br>8. Polonya (3.8)<br><span style='color:red;'>9. Türkiye (3.6)</span><br>10. Belçika (2.7)<br>11. İsveç (2.4)<br>12. Norveç (2.0)<br>13. Çekya (1.9)<br>14. Romanya (1.7)<br>15. Avusturya (1.6)<br>16. Yunanistan (1.4)<br>17. Finlandiya (1.3)<br>18. İsviçre (1.2)<br>19. Macaristan (1.1)<br>20. Portekiz (1.1)</td><td>1. Almanya (13.8)<br>2. Fransa (10.8)<br>3. İngiltere (8.9)<br>4. İtalya (7.3)<br>5. İspanya (6.1)<br>6. Ukrayna (5.1)<br><span style='color:red;'>7. Türkiye (4.5)</span><br>8. Hollanda (4.2)<br>9. Polonya (4.2)<br>10. Belçika (2.8)<br>11. İsveç (2.2)<br>12. Çekya (1.8)<br>13. Norveç (1.8)<br>14. Avusturya (1.5)<br>15. Romanya (1.4)<br>16. Yunanistan (1.4)<br>17. Finlandiya (1.3)<br>18. İsviçre (1.3)<br>19. Portekiz (1.1)<br>20. Macaristan (1.0)</td><td>1. Almanya (13.6)<br>2. Fransa (10.2)<br>3. İngiltere (8.2)<br>4. İtalya (6.5)<br><span style='color:red;'>5. Türkiye (5.7)</span><br>6. İspanya (5.7)<br>7. Polonya (4.0)<br>8. Hollanda (3.7)<br>9. Ukrayna (3.6)<br>10. Belçika (2.4)<br>11. İsveç (2.2)<br>12. Norveç (2.0)<br>13. Çekya (1.7)<br>14. Avusturya (1.4)<br>15. Romanya (1.4)<br>16. İsviçre (1.2)<br>17. Finlandiya (1.2)<br>18. Yunanistan (1.1)<br>19. Portekiz (1.0)<br>20. Macaristan (0.9)</td><td>1. Almanya (12.4)<br>2. Fransa (8.8)<br>3. İngiltere (7.1)<br><span style='color:red;'>4. Türkiye (6.6)</span><br>5. İtalya (5.9)<br>6. İspanya (5.1)<br>7. Polonya (4.1)<br>8. Hollanda (3.6)<br>9. Ukrayna (3.3)<br>10. Belçika (2.4)<br>11. İsveç (2.2)<br>12. Norveç (2.0)<br>13. Çekya (1.6)<br>14. Avusturya (1.4)<br>15. Romanya (1.3)<br>16. Finlandiya (1.1)<br>17. İsviçre (1.1)<br>18. Yunanistan (1.0)<br>19. Macaristan (1.0)<br>20. Portekiz (1.0)</td><td>1. Almanya (12.8)<br>2. Fransa (9.3)<br>3. İngiltere (7.2)<br><span style='color:red;'>4. Türkiye (7.0)</span><br>5. İtalya (6.4)<br>6. İspanya (5.5)<br>7. Polonya (4.4)<br>8. Hollanda (3.7)<br>9. Ukrayna (3.4)<br>10. Belçika (2.7)<br>11. İsveç (2.3)<br>12. Norveç (2.0)<br>13. Çekya (1.7)<br>14. Avusturya (1.5)<br>15. Romanya (1.4)<br>16. Finlandiya (1.2)<br>17. Yunanistan (1.1)<br>18. İsviçre (1.1)<br>19. Macaristan (1.0)<br>20. Portekiz (1.0)</td><td>1. Almanya (11.4)<br>2. Fransa (8.7)<br><span style='color:red;'>3. Türkiye (7.0)</span><br>4. İngiltere (7.0)<br>5. İtalya (5.9)<br>6. İspanya (5.7)<br>7. Polonya (4.1)<br>8. Hollanda (3.4)<br>9. Belçika (2.3)<br>10. Ukrayna (2.2)<br>11. İsveç (2.2)<br>12. Norveç (2.0)<br>13. Çekya (1.5)<br>14. Avusturya (1.4)<br>15. Romanya (1.3)<br>16. Finlandiya (1.2)<br>17. İsviçre (1.1)<br>18. Yunanistan (1.1)<br>19. Portekiz (0.9)<br>20. Macaristan (0.9)</td></tr></table>"
      ],
      "text/plain": [
       "<IPython.core.display.HTML object>"
      ]
     },
     "metadata": {},
     "output_type": "display_data"
    }
   ],
   "source": [
    "from IPython.core.display import HTML\n",
    "import pandas as pd\n",
    "\n",
    "varx = 'hydro_twh'\n",
    "varx= 'solar_twh'\n",
    "varx = 'ren_power_twh'\n",
    "varx= 'wind_twh'\n",
    "varx= 'biogeo_twh' #4.\n",
    "varx= 'electbyfuel_gas'\n",
    "varx= 'elect_twh'\n",
    "varx= 'oilcons_ej'\n",
    "varx= 'gascons_bcm'\n",
    "varx= 'primary_ej'\n",
    "varx = 'pop'\n",
    "varx = 'refcap_kbd'\n",
    "varx = 'oilcons_kbd'\n",
    "varx = 'electbyfuel_coal'\n",
    "varx = 'electbyfuel_gas'\n",
    "varx = 'electbyfuel_hydro'\n",
    "varx= 'elect_twh'\n",
    "varx= 'primary_ej'\n",
    "\n",
    "\n",
    "topv=20\n",
    "\n",
    "de = df[(df.Region == 'Europe') & (df.Var == varx)]\n",
    "top_10_per_year = de.groupby('Year').apply(lambda x: x.nlargest(topv, 'Value')).reset_index(drop=True)\n",
    "\n",
    "# Function to generate HTML table\n",
    "def generate_html_table(years, top_10_per_year):\n",
    "    html = \"<table border='1' style='border-collapse:collapse; width:100%;text-align:left'>\"\n",
    "    html += \"<tr>\"  # Header row for years\n",
    "    for year in years:\n",
    "        html += f\"<th colspan='1'>{year}</th>\"\n",
    "    html += \"</tr><tr>\"  # Row for countries\n",
    "    for year in years:\n",
    "        result_year = top_10_per_year[top_10_per_year['Year'] == year][['Country', 'Value']]\n",
    "        formatted_output = []\n",
    "        for rank, row in enumerate(result_year.itertuples(index=False), start=1):\n",
    "            if row.Country == \"Turkiye\":\n",
    "                formatted_output.append(f\"<span style='color:red;'>{rank}. {sozluk[row.Country]} ({row.Value:.1f})</span>\")\n",
    "            else:\n",
    "                formatted_output.append(f\"{rank}. {sozluk[row.Country]} ({row.Value:.1f})\")\n",
    "        country_list = \"<br>\".join(formatted_output)\n",
    "        html += f\"<td>{country_list}</td>\"\n",
    "    html += \"</tr></table>\"\n",
    "    return html\n",
    "\n",
    "# Define the years you are interested in\n",
    "years = [1990, 2000, 2005,2010, 2015, 2020, 2021,2023]\n",
    "\n",
    "#years=range(\n",
    "# Generate and display HTML\n",
    "html_table = generate_html_table(years, top_10_per_year)\n",
    "display(HTML(html_table))\n"
   ]
  },
  {
   "cell_type": "code",
   "execution_count": 49,
   "id": "cb34cbf0-d407-421c-8662-70cf488157b9",
   "metadata": {},
   "outputs": [
    {
     "data": {
      "text/html": [
       "<table border='1' style='border-collapse:collapse; width:100%;text-align:left'><tr><th colspan='1'>1990</th><th colspan='1'>2000</th><th colspan='1'>2005</th><th colspan='1'>2010</th><th colspan='1'>2015</th><th colspan='1'>2020</th><th colspan='1'>2021</th><th colspan='1'>2023</th></tr><tr><td>1. Almanya (15.1)<br>2. Ukrayna (11.5)<br>3. Fransa (9.5)<br>4. İngiltere (9.0)<br>5. İtalya (6.7)<br>6. Polonya (4.4)<br>7. İspanya (3.8)<br>8. Hollanda (3.3)<br>9. Romanya (2.6)<br>10. İsveç (2.3)<br>11. Belçika (2.2)<br><span style='color:red;'>12. Türkiye (2.0)</span><br>13. Çekya (2.0)<br>14. Norveç (1.8)<br>15. Avusturya (1.2)<br>16. İsviçre (1.2)<br>17. Bulgaristan (1.2)<br>18. Macaristan (1.2)<br>19. Finlandiya (1.2)<br>20. Yunanistan (1.0)</td><td>1. Almanya (14.4)<br>2. Fransa (11.2)<br>3. İngiltere (9.6)<br>4. İtalya (7.6)<br>5. Ukrayna (5.7)<br>6. İspanya (5.5)<br>7. Polonya (3.7)<br>8. Hollanda (3.6)<br><span style='color:red;'>9. Türkiye (3.1)</span><br>10. Belçika (2.7)<br>11. İsveç (2.3)<br>12. Norveç (2.1)<br>13. Çekya (1.7)<br>14. Romanya (1.5)<br>15. Avusturya (1.4)<br>16. Yunanistan (1.3)<br>17. İsviçre (1.3)<br>18. Finlandiya (1.3)<br>19. Portekiz (1.1)<br>20. Macaristan (1.0)</td><td>1. Almanya (14.3)<br>2. Fransa (11.4)<br>3. İngiltere (9.8)<br>4. İtalya (7.9)<br>5. İspanya (6.4)<br>6. Ukrayna (5.8)<br>7. Hollanda (4.0)<br>8. Polonya (3.8)<br><span style='color:red;'>9. Türkiye (3.6)</span><br>10. Belçika (2.7)<br>11. İsveç (2.4)<br>12. Norveç (2.0)<br>13. Çekya (1.9)<br>14. Romanya (1.7)<br>15. Avusturya (1.6)<br>16. Yunanistan (1.4)<br>17. Finlandiya (1.3)<br>18. İsviçre (1.2)<br>19. Macaristan (1.1)<br>20. Portekiz (1.1)</td><td>1. Almanya (13.8)<br>2. Fransa (10.8)<br>3. İngiltere (8.9)<br>4. İtalya (7.3)<br>5. İspanya (6.1)<br>6. Ukrayna (5.1)<br><span style='color:red;'>7. Türkiye (4.5)</span><br>8. Hollanda (4.2)<br>9. Polonya (4.2)<br>10. Belçika (2.8)<br>11. İsveç (2.2)<br>12. Çekya (1.8)<br>13. Norveç (1.8)<br>14. Avusturya (1.5)<br>15. Romanya (1.4)<br>16. Yunanistan (1.4)<br>17. Finlandiya (1.3)<br>18. İsviçre (1.3)<br>19. Portekiz (1.1)<br>20. Macaristan (1.0)</td><td>1. Almanya (13.6)<br>2. Fransa (10.2)<br>3. İngiltere (8.2)<br>4. İtalya (6.5)<br><span style='color:red;'>5. Türkiye (5.7)</span><br>6. İspanya (5.7)<br>7. Polonya (4.0)<br>8. Hollanda (3.7)<br>9. Ukrayna (3.6)<br>10. Belçika (2.4)<br>11. İsveç (2.2)<br>12. Norveç (2.0)<br>13. Çekya (1.7)<br>14. Avusturya (1.4)<br>15. Romanya (1.4)<br>16. İsviçre (1.2)<br>17. Finlandiya (1.2)<br>18. Yunanistan (1.1)<br>19. Portekiz (1.0)<br>20. Macaristan (0.9)</td><td>1. Almanya (12.4)<br>2. Fransa (8.8)<br>3. İngiltere (7.1)<br><span style='color:red;'>4. Türkiye (6.6)</span><br>5. İtalya (5.9)<br>6. İspanya (5.1)<br>7. Polonya (4.1)<br>8. Hollanda (3.6)<br>9. Ukrayna (3.3)<br>10. Belçika (2.4)<br>11. İsveç (2.2)<br>12. Norveç (2.0)<br>13. Çekya (1.6)<br>14. Avusturya (1.4)<br>15. Romanya (1.3)<br>16. Finlandiya (1.1)<br>17. İsviçre (1.1)<br>18. Yunanistan (1.0)<br>19. Macaristan (1.0)<br>20. Portekiz (1.0)</td><td>1. Almanya (12.8)<br>2. Fransa (9.3)<br>3. İngiltere (7.2)<br><span style='color:red;'>4. Türkiye (7.0)</span><br>5. İtalya (6.4)<br>6. İspanya (5.5)<br>7. Polonya (4.4)<br>8. Hollanda (3.7)<br>9. Ukrayna (3.4)<br>10. Belçika (2.7)<br>11. İsveç (2.3)<br>12. Norveç (2.0)<br>13. Çekya (1.7)<br>14. Avusturya (1.5)<br>15. Romanya (1.4)<br>16. Finlandiya (1.2)<br>17. Yunanistan (1.1)<br>18. İsviçre (1.1)<br>19. Macaristan (1.0)<br>20. Portekiz (1.0)</td><td>1. Almanya (11.4)<br>2. Fransa (8.7)<br><span style='color:red;'>3. Türkiye (7.0)</span><br>4. İngiltere (7.0)<br>5. İtalya (5.9)<br>6. İspanya (5.7)<br>7. Polonya (4.1)<br>8. Hollanda (3.4)<br>9. Belçika (2.3)<br>10. Ukrayna (2.2)<br>11. İsveç (2.2)<br>12. Norveç (2.0)<br>13. Çekya (1.5)<br>14. Avusturya (1.4)<br>15. Romanya (1.3)<br>16. Finlandiya (1.2)<br>17. İsviçre (1.1)<br>18. Yunanistan (1.1)<br>19. Portekiz (0.9)<br>20. Macaristan (0.9)</td></tr></table>"
      ],
      "text/plain": [
       "<IPython.core.display.HTML object>"
      ]
     },
     "metadata": {},
     "output_type": "display_data"
    }
   ],
   "source": [
    "varx = 'hydro_twh'\n",
    "varx= 'solar_twh'\n",
    "varx = 'ren_power_twh'\n",
    "varx= 'wind_twh'\n",
    "varx= 'biogeo_twh' #4.\n",
    "varx= 'electbyfuel_gas'\n",
    "varx= 'elect_twh'\n",
    "varx= 'oilcons_ej'\n",
    "varx= 'gascons_bcm'\n",
    "varx = 'pop'\n",
    "varx = 'refcap_kbd'\n",
    "varx = 'oilcons_kbd'\n",
    "varx = 'electbyfuel_coal'\n",
    "varx = 'electbyfuel_gas'\n",
    "varx = 'electbyfuel_hydro'\n",
    "varx= 'elect_twh'\n",
    "varx= 'primary_ej'\n",
    "\n",
    "\n",
    "topv=20\n",
    "\n",
    "de = df[(df.Region == 'Europe') & (df.Var == varx)]\n",
    "top_10_per_year = de.groupby('Year').apply(lambda x: x.nlargest(topv, 'Value')).reset_index(drop=True)\n",
    "\n",
    "# Function to generate HTML table\n",
    "def generate_html_table(years, top_10_per_year):\n",
    "    html = \"<table border='1' style='border-collapse:collapse; width:100%;text-align:left'>\"\n",
    "    html += \"<tr>\"  # Header row for years\n",
    "    for year in years:\n",
    "        html += f\"<th colspan='1'>{year}</th>\"\n",
    "    html += \"</tr><tr>\"  # Row for countries\n",
    "    for year in years:\n",
    "        result_year = top_10_per_year[top_10_per_year['Year'] == year][['Country', 'Value']]\n",
    "        formatted_output = []\n",
    "        for rank, row in enumerate(result_year.itertuples(index=False), start=1):\n",
    "            if row.Country == \"Turkiye\":\n",
    "                formatted_output.append(f\"<span style='color:red;'>{rank}. {sozluk[row.Country]} ({row.Value:.1f})</span>\")\n",
    "            else:\n",
    "                formatted_output.append(f\"{rank}. {sozluk[row.Country]} ({row.Value:.1f})\")\n",
    "        country_list = \"<br>\".join(formatted_output)\n",
    "        html += f\"<td>{country_list}</td>\"\n",
    "    html += \"</tr></table>\"\n",
    "    return html\n",
    "\n",
    "# Define the years you are interested in\n",
    "years = [1990, 2000, 2005,2010, 2015, 2020, 2021,2023]\n",
    "\n",
    "#years=range(\n",
    "# Generate and display HTML\n",
    "html_table = generate_html_table(years, top_10_per_year)\n",
    "display(HTML(html_table))\n"
   ]
  },
  {
   "cell_type": "code",
   "execution_count": 79,
   "id": "ad4313bf-e4b2-4de1-931f-cdddb702084b",
   "metadata": {},
   "outputs": [
    {
     "data": {
      "text/html": [
       "<table border='1' style='border-collapse:collapse; width:100%;text-align:left'><tr><th colspan='1'>1990</th><th colspan='1'>2000</th><th colspan='1'>2005</th><th colspan='1'>2010</th><th colspan='1'>2015</th><th colspan='1'>2020</th><th colspan='1'>2021</th><th colspan='1'>2023</th></tr><tr><td>1. Almanya (2684.6)<br>2. İtalya (1969.2)<br>3. Fransa (1863.9)<br>4. İngiltere (1750.7)<br>5. Ukrayna (1305.1)<br>6. İspanya (983.3)<br>7. Hollanda (750.8)<br><span style='color:red;'>8. Türkiye (474.8)</span><br>9. Belçika (473.1)<br>10. Romanya (363.1)</td><td>1. Almanya (2740.8)<br>2. Fransa (1992.5)<br>3. İtalya (1957.6)<br>4. İngiltere (1707.6)<br>5. İspanya (1415.6)<br>6. Hollanda (844.7)<br><span style='color:red;'>7. Türkiye (664.1)</span><br>8. Belçika (615.9)<br>9. Polonya (426.2)<br>10. Yunanistan (396.8)</td><td>1. Almanya (2549.9)<br>2. Fransa (1927.3)<br>3. İtalya (1819.1)<br>4. İngiltere (1807.0)<br>5. İspanya (1546.8)<br>6. Hollanda (990.5)<br>7. Belçika (661.0)<br><span style='color:red;'>8. Türkiye (656.4)</span><br>9. Polonya (481.6)<br>10. Yunanistan (421.8)</td><td>1. Almanya (2372.8)<br>2. Fransa (1704.6)<br>3. İngiltere (1586.4)<br>4. İtalya (1507.5)<br>5. İspanya (1355.2)<br>6. Hollanda (1006.6)<br><span style='color:red;'>7. Türkiye (679.6)</span><br>8. Belçika (643.9)<br>9. Polonya (564.0)<br>10. Yunanistan (365.9)</td><td>1. Almanya (2269.1)<br>2. Fransa (1579.3)<br>3. İngiltere (1529.5)<br>4. İtalya (1263.7)<br>5. İspanya (1201.6)<br>6. Hollanda (913.8)<br><span style='color:red;'>7. Türkiye (883.8)</span><br>8. Belçika (612.5)<br>9. Polonya (528.1)<br>10. Yunanistan (293.6)</td><td>1. Almanya (2046.7)<br>2. Fransa (1275.4)<br>3. İngiltere (1183.3)<br>4. İtalya (1039.3)<br>5. İspanya (1015.8)<br><span style='color:red;'>6. Türkiye (970.2)</span><br>7. Hollanda (848.5)<br>8. Polonya (643.7)<br>9. Belçika (541.2)<br>10. Yunanistan (245.7)</td><td>1. Almanya (2038.3)<br>2. Fransa (1372.8)<br>3. İngiltere (1217.3)<br>4. İtalya (1156.1)<br>5. İspanya (1123.3)<br><span style='color:red;'>6. Türkiye (1033.3)</span><br>7. Hollanda (845.7)<br>8. Polonya (673.8)<br>9. Belçika (600.2)<br>10. İsveç (266.2)</td><td>1. Almanya (1954.7)<br>2. Fransa (1347.8)<br>3. İngiltere (1324.8)<br>4. İspanya (1227.8)<br>5. İtalya (1221.0)<br><span style='color:red;'>6. Türkiye (1135.9)</span><br>7. Hollanda (850.3)<br>8. Polonya (699.8)<br>9. Belçika (556.4)<br>10. Yunanistan (296.9)</td></tr></table>"
      ],
      "text/plain": [
       "<IPython.core.display.HTML object>"
      ]
     },
     "metadata": {},
     "output_type": "display_data"
    }
   ],
   "source": [
    "varx = 'hydro_twh'\n",
    "varx= 'solar_twh'\n",
    "varx = 'ren_power_twh'\n",
    "varx= 'wind_twh'\n",
    "varx= 'biogeo_twh' #4.\n",
    "varx= 'electbyfuel_gas'\n",
    "varx= 'elect_twh'\n",
    "varx= 'oilcons_ej'\n",
    "varx= 'gascons_bcm'\n",
    "varx = 'pop'\n",
    "varx = 'refcap_kbd'\n",
    "varx = 'oilcons_kbd'\n",
    "varx = 'electbyfuel_coal'\n",
    "varx = 'electbyfuel_gas'\n",
    "varx = 'electbyfuel_hydro'\n",
    "varx= 'elect_twh'\n",
    "varx= 'primary_ej'\n",
    "varx= 'gascons_bcm'\n",
    "varx = 'oilcons_kbd'\n",
    "\n",
    "\n",
    "\n",
    "topv=10\n",
    "\n",
    "de = df[(df.Region == 'Europe') & (df.Var == varx)]\n",
    "top_10_per_year = de.groupby('Year').apply(lambda x: x.nlargest(topv, 'Value')).reset_index(drop=True)\n",
    "\n",
    "# Function to generate HTML table\n",
    "def generate_html_table(years, top_10_per_year):\n",
    "    html = \"<table border='1' style='border-collapse:collapse; width:100%;text-align:left'>\"\n",
    "    html += \"<tr>\"  # Header row for years\n",
    "    for year in years:\n",
    "        html += f\"<th colspan='1'>{year}</th>\"\n",
    "    html += \"</tr><tr>\"  # Row for countries\n",
    "    for year in years:\n",
    "        result_year = top_10_per_year[top_10_per_year['Year'] == year][['Country', 'Value']]\n",
    "        formatted_output = []\n",
    "        for rank, row in enumerate(result_year.itertuples(index=False), start=1):\n",
    "            if row.Country == \"Turkiye\":\n",
    "                formatted_output.append(f\"<span style='color:red;'>{rank}. {sozluk[row.Country]} ({row.Value:.1f})</span>\")\n",
    "            else:\n",
    "                formatted_output.append(f\"{rank}. {sozluk[row.Country]} ({row.Value:.1f})\")\n",
    "        country_list = \"<br>\".join(formatted_output)\n",
    "        html += f\"<td>{country_list}</td>\"\n",
    "    html += \"</tr></table>\"\n",
    "    return html\n",
    "\n",
    "# Define the years you are interested in\n",
    "years = [1990, 2000, 2005,2010, 2015, 2020, 2021 ,2023]\n",
    "\n",
    "#years=range(\n",
    "# Generate and display HTML\n",
    "html_table = generate_html_table(years, top_10_per_year)\n",
    "display(HTML(html_table))"
   ]
  },
  {
   "cell_type": "code",
   "execution_count": 91,
   "id": "510066f2-6737-4e54-86c2-99cd653103ad",
   "metadata": {},
   "outputs": [
    {
     "data": {
      "text/html": [
       "<table border='1' style='border-collapse:collapse; width:100%;text-align:left'><tr><th colspan='1'>1990</th><th colspan='1'>2000</th><th colspan='1'>2005</th><th colspan='1'>2010</th><th colspan='1'>2015</th><th colspan='1'>2020</th><th colspan='1'>2021</th><th colspan='1'>2023</th></tr><tr><td>1. Norveç (121.1)<br>2. İsveç (72.5)<br>3. Fransa (53.9)<br>4. İtalya (31.6)<br>5. Avusturya (31.5)<br>6. İsviçre (29.8)<br>7. İspanya (25.4)<br><span style='color:red;'>8. Türkiye (23.1)</span><br>9. Almanya (17.3)<br>10. Romanya (11.4)</td><td>1. Norveç (141.8)<br>2. İsveç (78.6)<br>3. Fransa (66.4)<br>4. İtalya (44.2)<br>5. Avusturya (41.8)<br>6. İsviçre (36.8)<br><span style='color:red;'>7. Türkiye (30.9)</span><br>8. İspanya (29.6)<br>9. Almanya (24.9)<br>10. Romanya (14.8)</td><td>1. Norveç (135.7)<br>2. İsveç (72.4)<br>3. Fransa (51.5)<br><span style='color:red;'>4. Türkiye (39.6)</span><br>5. Avusturya (37.1)<br>6. İtalya (36.1)<br>7. İsviçre (31.2)<br>8. Romanya (20.2)<br>9. Almanya (19.6)<br>10. İspanya (17.9)</td><td>1. Norveç (116.7)<br>2. İsveç (67.2)<br>3. Fransa (62.7)<br><span style='color:red;'>4. Türkiye (51.8)</span><br>5. İtalya (51.1)<br>6. İspanya (42.0)<br>7. Avusturya (38.4)<br>8. İsviçre (36.1)<br>9. Almanya (21.0)<br>10. Romanya (19.9)</td><td>1. Norveç (137.3)<br>2. İsveç (75.3)<br><span style='color:red;'>3. Türkiye (67.1)</span><br>4. Fransa (54.6)<br>5. İtalya (45.5)<br>6. İsviçre (38.3)<br>7. Avusturya (37.2)<br>8. İspanya (28.1)<br>9. Almanya (19.0)<br>10. Finlandiya (16.8)</td><td>1. Norveç (140.9)<br><span style='color:red;'>2. Türkiye (78.1)</span><br>3. İsveç (72.3)<br>4. Fransa (61.7)<br>5. İtalya (47.6)<br>6. Avusturya (42.0)<br>7. İsviçre (37.5)<br>8. İspanya (30.5)<br>9. Almanya (18.3)<br>10. Finlandiya (15.9)</td><td>1. Norveç (143.3)<br>2. İsveç (73.8)<br>3. Fransa (58.7)<br><span style='color:red;'>4. Türkiye (55.9)</span><br>5. İtalya (45.4)<br>6. Avusturya (38.8)<br>7. İsviçre (36.6)<br>8. İspanya (29.6)<br>9. Almanya (19.7)<br>10. Romanya (17.4)</td><td>1. Norveç (136.1)<br>2. İsveç (66.0)<br><span style='color:red;'>3. Türkiye (63.9)</span><br>4. Fransa (55.5)<br>5. İtalya (38.9)<br>6. Avusturya (38.9)<br>7. İsviçre (37.0)<br>8. İspanya (25.5)<br>9. Almanya (19.6)<br>10. Romanya (18.2)</td></tr></table>"
      ],
      "text/plain": [
       "<IPython.core.display.HTML object>"
      ]
     },
     "metadata": {},
     "output_type": "display_data"
    }
   ],
   "source": [
    "varx = 'hydro_twh'\n",
    "varx= 'solar_twh'\n",
    "varx = 'ren_power_twh'\n",
    "varx= 'wind_twh'\n",
    "varx= 'biogeo_twh' #4.\n",
    "varx= 'electbyfuel_gas'\n",
    "varx= 'elect_twh'\n",
    "varx= 'oilcons_ej'\n",
    "varx= 'gascons_bcm'\n",
    "varx = 'pop'\n",
    "varx = 'refcap_kbd'\n",
    "varx = 'oilcons_kbd'\n",
    "varx = 'electbyfuel_coal'\n",
    "varx = 'electbyfuel_gas'\n",
    "varx = 'electbyfuel_hydro'\n",
    "varx= 'elect_twh'\n",
    "varx= 'primary_ej'\n",
    "varx= 'gascons_bcm'\n",
    "varx = 'oilcons_kbd'\n",
    "varx = 'ren_power_twh'\n",
    "varx = 'hydro_twh'\n",
    "\n",
    "\n",
    "\n",
    "\n",
    "\n",
    "topv=10\n",
    "\n",
    "de = df[(df.Region == 'Europe') & (df.Var == varx)]\n",
    "top_10_per_year = de.groupby('Year').apply(lambda x: x.nlargest(topv, 'Value')).reset_index(drop=True)\n",
    "\n",
    "# Function to generate HTML table\n",
    "def generate_html_table(years, top_10_per_year):\n",
    "    html = \"<table border='1' style='border-collapse:collapse; width:100%;text-align:left'>\"\n",
    "    html += \"<tr>\"  # Header row for years\n",
    "    for year in years:\n",
    "        html += f\"<th colspan='1'>{year}</th>\"\n",
    "    html += \"</tr><tr>\"  # Row for countries\n",
    "    for year in years:\n",
    "        result_year = top_10_per_year[top_10_per_year['Year'] == year][['Country', 'Value']]\n",
    "        formatted_output = []\n",
    "        for rank, row in enumerate(result_year.itertuples(index=False), start=1):\n",
    "            if row.Country == \"Turkiye\":\n",
    "                formatted_output.append(f\"<span style='color:red;'>{rank}. {sozluk[row.Country]} ({row.Value:.1f})</span>\")\n",
    "            else:\n",
    "                formatted_output.append(f\"{rank}. {sozluk[row.Country]} ({row.Value:.1f})\")\n",
    "        country_list = \"<br>\".join(formatted_output)\n",
    "        html += f\"<td>{country_list}</td>\"\n",
    "    html += \"</tr></table>\"\n",
    "    return html\n",
    "\n",
    "# Define the years you are interested in\n",
    "years = [1990, 2000, 2005,2010, 2015, 2020, 2021 ,2023]\n",
    "\n",
    "#years=range(\n",
    "# Generate and display HTML\n",
    "html_table = generate_html_table(years, top_10_per_year)\n",
    "display(HTML(html_table))"
   ]
  },
  {
   "cell_type": "code",
   "execution_count": 101,
   "id": "573075b3-d995-4274-a749-ca3c96b9dc06",
   "metadata": {},
   "outputs": [
    {
     "data": {
      "text/html": [
       "<table border='1' style='border-collapse:collapse; width:100%;text-align:left'><tr><th colspan='1'>1990</th><th colspan='1'>2000</th><th colspan='1'>2005</th><th colspan='1'>2010</th><th colspan='1'>2015</th><th colspan='1'>2020</th><th colspan='1'>2021</th><th colspan='1'>2023</th></tr><tr><td>1. Finlandiya (5.2)<br>2. İtalya (3.3)<br>3. İsveç (1.9)<br>4. Fransa (1.9)<br>5. Almanya (1.5)<br>6. Avusturya (1.1)<br>7. Danimarka (0.8)<br>8. Hollanda (0.7)<br>9. Portekiz (0.7)<br>10. İngiltere (0.6)<br>11. İspanya (0.6)<br>12. İsviçre (0.4)<br>13. Belçika (0.3)<br>14. İzlanda (0.3)<br>15. Norveç (0.2)<br><span style='color:red;'>16. Türkiye (0.1)</span><br>17. Polonya (0.1)<br>18. Macaristan (0.0)<br>19. Luxembourg (0.0)<br>20. Hırvatistan (0.0)</td><td>1. Almanya (12.9)<br>2. Finlandiya (8.7)<br>3. İtalya (6.7)<br>4. İspanya (6.2)<br>5. Danimarka (5.5)<br>6. İngiltere (4.8)<br>7. İsveç (4.6)<br>8. Fransa (3.0)<br>9. Hollanda (2.8)<br>10. Avusturya (1.6)<br>11. Portekiz (1.5)<br>12. İzlanda (1.3)<br>13. İsviçre (0.8)<br>14. Belçika (0.6)<br>15. Çekya (0.5)<br>16. Yunanistan (0.5)<br>17. İrlanda (0.3)<br>18. Norveç (0.3)<br><span style='color:red;'>19. Türkiye (0.3)</span><br>20. Polonya (0.2)</td><td>1. Almanya (43.8)<br>2. İspanya (23.9)<br>3. İtalya (12.4)<br>4. İngiltere (12.0)<br>5. Danimarka (9.8)<br>6. Finlandiya (9.7)<br>7. İsveç (8.4)<br>8. Hollanda (7.4)<br>9. Fransa (4.8)<br>10. Avusturya (3.8)<br>11. Portekiz (3.5)<br>12. Belçika (1.8)<br>13. Macaristan (1.7)<br>14. İzlanda (1.7)<br>15. Polonya (1.6)<br>16. Yunanistan (1.4)<br>17. İrlanda (1.2)<br>18. İsviçre (1.0)<br>19. Norveç (0.8)<br>20. Çekya (0.8)</td><td>1. Almanya (84.5)<br>2. İspanya (54.6)<br>3. İtalya (25.8)<br>4. İngiltere (22.6)<br>5. İsveç (15.7)<br>6. Fransa (15.5)<br>7. Danimarka (12.4)<br>8. Portekiz (12.2)<br>9. Finlandiya (11.3)<br>10. Hollanda (11.1)<br>11. Polonya (8.0)<br>12. Avusturya (6.7)<br>13. Belçika (6.3)<br>14. İzlanda (4.5)<br><span style='color:red;'>15. Türkiye (3.9)</span><br>16. İrlanda (3.1)<br>17. Çekya (3.1)<br>18. Yunanistan (3.1)<br>19. Macaristan (2.8)<br>20. İsviçre (1.4)</td><td>1. Almanya (169.2)<br>2. İngiltere (77.1)<br>3. İspanya (68.9)<br>4. İtalya (63.4)<br>5. Fransa (35.7)<br>6. İsveç (27.2)<br>7. Polonya (20.7)<br>8. Danimarka (18.9)<br><span style='color:red;'>9. Türkiye (16.5)</span><br>10. Portekiz (15.7)<br>11. Belçika (14.1)<br>12. Finlandiya (13.8)<br>13. Hollanda (13.6)<br>14. Avusturya (10.4)<br>15. Romanya (9.6)<br>16. Yunanistan (8.8)<br>17. Çekya (7.6)<br>18. İrlanda (7.1)<br>19. İzlanda (5.0)<br>20. Bulgaristan (3.1)</td><td>1. Almanya (232.8)<br>2. İngiltere (127.4)<br>3. İspanya (83.2)<br>4. İtalya (69.4)<br>5. Fransa (61.5)<br><span style='color:red;'>6. Türkiye (50.3)</span><br>7. İsveç (39.7)<br>8. Hollanda (32.7)<br>9. Polonya (26.1)<br>10. Danimarka (23.4)<br>11. Belçika (23.2)<br>12. Finlandiya (20.0)<br>13. Portekiz (18.0)<br>14. Yunanistan (14.2)<br>15. Avusturya (13.4)<br>16. İrlanda (12.5)<br>17. Norveç (10.3)<br>18. Ukrayna (9.4)<br>19. Romanya (9.2)<br>20. Çekya (8.1)</td><td>1. Almanya (214.3)<br>2. İngiltere (116.8)<br>3. İspanya (96.1)<br>4. İtalya (71.0)<br><span style='color:red;'>5. Türkiye (62.6)</span><br>6. Fransa (61.1)<br>7. İsveç (41.7)<br>8. Hollanda (40.3)<br>9. Polonya (28.2)<br>10. Danimarka (26.1)<br>11. Finlandiya (22.4)<br>12. Belçika (22.3)<br>13. Portekiz (19.6)<br>14. Yunanistan (16.2)<br>15. Avusturya (14.0)<br>16. Norveç (12.2)<br>17. Ukrayna (11.2)<br>18. İrlanda (10.9)<br>19. Romanya (8.9)<br>20. Çekya (8.1)</td><td>1. Almanya (252.8)<br>2. İngiltere (129.8)<br>3. İspanya (116.5)<br>4. Fransa (84.3)<br>5. İtalya (75.1)<br><span style='color:red;'>6. Türkiye (74.1)</span><br>7. Hollanda (58.1)<br>8. İsveç (48.8)<br>9. Polonya (44.0)<br>10. Danimarka (29.6)<br>11. Finlandiya (26.7)<br>12. Belçika (26.5)<br>13. Portekiz (22.2)<br>14. Yunanistan (20.2)<br>15. Avusturya (17.8)<br>16. Norveç (14.8)<br>17. İrlanda (12.9)<br>18. Romanya (9.8)<br>19. Macaristan (8.7)<br>20. İsviçre (8.2)</td></tr></table>"
      ],
      "text/plain": [
       "<IPython.core.display.HTML object>"
      ]
     },
     "metadata": {},
     "output_type": "display_data"
    }
   ],
   "source": [
    "varx = 'hydro_twh'\n",
    "varx= 'solar_twh'\n",
    "varx = 'ren_power_twh'\n",
    "varx= 'wind_twh'\n",
    "varx= 'biogeo_twh' #4.\n",
    "varx= 'electbyfuel_gas'\n",
    "varx= 'elect_twh'\n",
    "varx= 'oilcons_ej'\n",
    "varx= 'gascons_bcm'\n",
    "varx = 'pop'\n",
    "varx = 'refcap_kbd'\n",
    "varx = 'oilcons_kbd'\n",
    "varx = 'electbyfuel_coal'\n",
    "varx = 'electbyfuel_gas'\n",
    "varx = 'electbyfuel_hydro'\n",
    "varx= 'elect_twh'\n",
    "varx= 'primary_ej'\n",
    "varx= 'gascons_bcm'\n",
    "varx = 'oilcons_kbd'\n",
    "varx = 'ren_power_twh'\n",
    "varx = 'hydro_twh'\n",
    "varx= 'biogeo_twh' #4.\n",
    "varx = 'ren_power_twh'\n",
    "\n",
    "\n",
    "\n",
    "\n",
    "\n",
    "topv=20\n",
    "\n",
    "de = df[(df.Region == 'Europe') & (df.Var == varx)]\n",
    "top_10_per_year = de.groupby('Year').apply(lambda x: x.nlargest(topv, 'Value')).reset_index(drop=True)\n",
    "\n",
    "# Function to generate HTML table\n",
    "def generate_html_table(years, top_10_per_year):\n",
    "    html = \"<table border='1' style='border-collapse:collapse; width:100%;text-align:left'>\"\n",
    "    html += \"<tr>\"  # Header row for years\n",
    "    for year in years:\n",
    "        html += f\"<th colspan='1'>{year}</th>\"\n",
    "    html += \"</tr><tr>\"  # Row for countries\n",
    "    for year in years:\n",
    "        result_year = top_10_per_year[top_10_per_year['Year'] == year][['Country', 'Value']]\n",
    "        formatted_output = []\n",
    "        for rank, row in enumerate(result_year.itertuples(index=False), start=1):\n",
    "            if row.Country == \"Turkiye\":\n",
    "                formatted_output.append(f\"<span style='color:red;'>{rank}. {sozluk[row.Country]} ({row.Value:.1f})</span>\")\n",
    "            else:\n",
    "                formatted_output.append(f\"{rank}. {sozluk[row.Country]} ({row.Value:.1f})\")\n",
    "        country_list = \"<br>\".join(formatted_output)\n",
    "        html += f\"<td>{country_list}</td>\"\n",
    "    html += \"</tr></table>\"\n",
    "    return html\n",
    "\n",
    "# Define the years you are interested in\n",
    "years = [1990, 2000, 2005,2010, 2015, 2020, 2021 ,2023]\n",
    "\n",
    "#years=range(\n",
    "# Generate and display HTML\n",
    "html_table = generate_html_table(years, top_10_per_year)\n",
    "display(HTML(html_table))"
   ]
  },
  {
   "cell_type": "code",
   "execution_count": 109,
   "id": "b0f812d0-92ef-4e2e-b71d-3a1500ecf514",
   "metadata": {},
   "outputs": [
    {
     "data": {
      "text/html": [
       "<table border='1' style='border-collapse:collapse; width:100%;text-align:left'><tr><th colspan='1'>1990</th><th colspan='1'>2000</th><th colspan='1'>2005</th><th colspan='1'>2010</th><th colspan='1'>2015</th><th colspan='1'>2020</th><th colspan='1'>2021</th><th colspan='1'>2023</th></tr><tr><td>1. Danimarka (0.6)<br>2. Almanya (0.1)<br>3. Hollanda (0.1)<br>4. İspanya (0.0)<br>5. İngiltere (0.0)<br>6. Belçika (0.0)<br>7. İsveç (0.0)<br>8. Yunanistan (0.0)<br>9. İtalya (0.0)<br>10. Romanya (0.0)<br>11. Portekiz (0.0)<br>12. Fransa (0.0)<br>13. Avusturya (0.0)<br>14. Bulgaristan (0.0)<br>15. Hırvatistan (0.0)<br>16. KKTC (0.0)<br>17. Çekya (0.0)<br>18. Estonya (0.0)<br>19. Finlandiya (0.0)<br>20. Macaristan (0.0)</td><td>1. Almanya (9.5)<br>2. İspanya (4.7)<br>3. Danimarka (4.2)<br>4. İngiltere (0.9)<br>5. Hollanda (0.8)<br>6. İtalya (0.6)<br>7. İsveç (0.5)<br>8. Yunanistan (0.5)<br>9. İrlanda (0.2)<br>10. Portekiz (0.2)<br>11. Finlandiya (0.1)<br>12. Avusturya (0.1)<br>13. Fransa (0.0)<br><span style='color:red;'>14. Türkiye (0.0)</span><br>15. Norveç (0.0)<br>16. Luxembourg (0.0)<br>17. Belçika (0.0)<br>18. Ukrayna (0.0)<br>19. Latviya (0.0)<br>20. Polonya (0.0)</td><td>1. Almanya (27.8)<br>2. İspanya (21.2)<br>3. Danimarka (6.6)<br>4. İngiltere (2.9)<br>5. İtalya (2.3)<br>6. Hollanda (2.1)<br>7. Portekiz (1.8)<br>8. Avusturya (1.3)<br>9. Yunanistan (1.3)<br>10. İrlanda (1.1)<br>11. Fransa (1.0)<br>12. İsveç (0.9)<br>13. Norveç (0.5)<br>14. Belçika (0.2)<br>15. Finlandiya (0.2)<br>16. Polonya (0.1)<br><span style='color:red;'>17. Türkiye (0.1)</span><br>18. Estonya (0.1)<br>19. Luxembourg (0.1)<br>20. Latviya (0.0)</td><td>1. İspanya (43.7)<br>2. Almanya (38.5)<br>3. İngiltere (10.3)<br>4. Fransa (9.9)<br>5. Portekiz (9.2)<br>6. İtalya (9.1)<br>7. Danimarka (7.8)<br>8. Hollanda (4.0)<br>9. İsveç (3.5)<br><span style='color:red;'>10. Türkiye (2.9)</span><br>11. İrlanda (2.8)<br>12. Yunanistan (2.7)<br>13. Avusturya (2.1)<br>14. Polonya (1.7)<br>15. Belçika (1.3)<br>16. Norveç (0.9)<br>17. Bulgaristan (0.7)<br>18. Macaristan (0.5)<br>19. Çekya (0.3)<br>20. Romanya (0.3)</td><td>1. Almanya (80.6)<br>2. İspanya (49.3)<br>3. İngiltere (40.3)<br>4. Fransa (21.4)<br>5. İsveç (16.3)<br>6. İtalya (14.8)<br>7. Danimarka (14.1)<br><span style='color:red;'>8. Türkiye (11.7)</span><br>9. Portekiz (11.6)<br>10. Polonya (10.9)<br>11. Hollanda (7.5)<br>12. Romanya (7.1)<br>13. İrlanda (6.6)<br>14. Belçika (5.6)<br>15. Avusturya (4.8)<br>16. Yunanistan (4.6)<br>17. Norveç (2.5)<br>18. Finlandiya (2.3)<br>19. Bulgaristan (1.5)<br>20. Ukrayna (1.1)</td><td>1. Almanya (132.1)<br>2. İngiltere (75.4)<br>3. İspanya (56.4)<br>4. Fransa (39.9)<br>5. İsveç (27.5)<br><span style='color:red;'>6. Türkiye (24.8)</span><br>7. İtalya (18.8)<br>8. Danimarka (16.3)<br>9. Polonya (15.8)<br>10. Hollanda (15.3)<br>11. Belçika (12.8)<br>12. Portekiz (12.3)<br>13. İrlanda (11.5)<br>14. Norveç (9.9)<br>15. Yunanistan (9.3)<br>16. Finlandiya (8.3)<br>17. Romanya (6.9)<br>18. Avusturya (6.8)<br>19. Ukrayna (3.3)<br>20. Hırvatistan (1.7)</td><td>1. Almanya (114.6)<br>2. İngiltere (64.7)<br>3. İspanya (62.1)<br>4. Fransa (37.0)<br><span style='color:red;'>5. Türkiye (31.4)</span><br>6. İsveç (27.1)<br>7. İtalya (20.9)<br>8. Hollanda (18.0)<br>9. Polonya (16.2)<br>10. Danimarka (16.1)<br>11. Portekiz (13.2)<br>12. Belçika (12.0)<br>13. Norveç (11.8)<br>14. Yunanistan (10.5)<br>15. İrlanda (9.8)<br>16. Finlandiya (8.5)<br>17. Avusturya (6.7)<br>18. Romanya (6.6)<br>19. Ukrayna (3.8)<br>20. Hırvatistan (2.1)</td><td>1. Almanya (142.1)<br>2. İngiltere (82.0)<br>3. İspanya (64.2)<br>4. Fransa (52.3)<br>5. İsveç (34.3)<br><span style='color:red;'>6. Türkiye (34.1)</span><br>7. Hollanda (28.9)<br>8. Polonya (24.1)<br>9. İtalya (23.5)<br>10. Danimarka (19.4)<br>11. Belçika (15.7)<br>12. Finlandiya (15.0)<br>13. Norveç (14.0)<br>14. Portekiz (13.2)<br>15. İrlanda (11.6)<br>16. Yunanistan (11.0)<br>17. Avusturya (8.0)<br>18. Romanya (7.6)<br>19. Litvanya (2.5)<br>20. Hırvatistan (2.3)</td></tr></table>"
      ],
      "text/plain": [
       "<IPython.core.display.HTML object>"
      ]
     },
     "metadata": {},
     "output_type": "display_data"
    }
   ],
   "source": [
    "varx = 'wind_twh'\n",
    "\n",
    "\n",
    "\n",
    "\n",
    "\n",
    "topv=20\n",
    "\n",
    "de = df[(df.Region == 'Europe') & (df.Var == varx)]\n",
    "top_10_per_year = de.groupby('Year').apply(lambda x: x.nlargest(topv, 'Value')).reset_index(drop=True)\n",
    "\n",
    "# Function to generate HTML table\n",
    "def generate_html_table(years, top_10_per_year):\n",
    "    html = \"<table border='1' style='border-collapse:collapse; width:100%;text-align:left'>\"\n",
    "    html += \"<tr>\"  # Header row for years\n",
    "    for year in years:\n",
    "        html += f\"<th colspan='1'>{year}</th>\"\n",
    "    html += \"</tr><tr>\"  # Row for countries\n",
    "    for year in years:\n",
    "        result_year = top_10_per_year[top_10_per_year['Year'] == year][['Country', 'Value']]\n",
    "        formatted_output = []\n",
    "        for rank, row in enumerate(result_year.itertuples(index=False), start=1):\n",
    "            if row.Country == \"Turkiye\":\n",
    "                formatted_output.append(f\"<span style='color:red;'>{rank}. {sozluk[row.Country]} ({row.Value:.1f})</span>\")\n",
    "            else:\n",
    "                formatted_output.append(f\"{rank}. {sozluk[row.Country]} ({row.Value:.1f})\")\n",
    "        country_list = \"<br>\".join(formatted_output)\n",
    "        html += f\"<td>{country_list}</td>\"\n",
    "    html += \"</tr></table>\"\n",
    "    return html\n",
    "\n",
    "# Define the years you are interested in\n",
    "years = [1990, 2000, 2005,2010, 2015, 2020, 2021 ,2023]\n",
    "\n",
    "#years=range(\n",
    "# Generate and display HTML\n",
    "html_table = generate_html_table(years, top_10_per_year)\n",
    "display(HTML(html_table))"
   ]
  },
  {
   "cell_type": "code",
   "execution_count": null,
   "id": "0a7fe868-4d2b-4368-8a28-14163e27ef9b",
   "metadata": {},
   "outputs": [],
   "source": []
  },
  {
   "cell_type": "code",
   "execution_count": null,
   "id": "16de5e57-e885-40d7-8215-5170c2671f29",
   "metadata": {},
   "outputs": [],
   "source": []
  },
  {
   "cell_type": "code",
   "execution_count": null,
   "id": "d83f81d9-a106-4853-8fce-34572d9bf1de",
   "metadata": {},
   "outputs": [],
   "source": []
  }
 ],
 "metadata": {
  "kernelspec": {
   "display_name": "anaconda-2024.02-py310",
   "language": "python",
   "name": "conda-env-anaconda-2024.02-py310-py"
  },
  "language_info": {
   "codemirror_mode": {
    "name": "ipython",
    "version": 3
   },
   "file_extension": ".py",
   "mimetype": "text/x-python",
   "name": "python",
   "nbconvert_exporter": "python",
   "pygments_lexer": "ipython3",
   "version": "3.10.14"
  }
 },
 "nbformat": 4,
 "nbformat_minor": 5
}
